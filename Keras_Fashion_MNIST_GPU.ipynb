{
 "cells": [
  {
   "cell_type": "markdown",
   "metadata": {},
   "source": [
    "## Keras hyperparameter optimization - GPU/CPU\n",
    "[How to perform Keras hyperparameter optimization x3 faster on TPU for free](https://www.dlology.com/blog/how-to-perform-keras-hyperparameter-optimization-on-tpu-for-free/)"
   ]
  },
  {
   "cell_type": "code",
   "execution_count": 1,
   "metadata": {},
   "outputs": [
    {
     "name": "stderr",
     "output_type": "stream",
     "text": [
      "Using TensorFlow backend.\n"
     ]
    },
    {
     "name": "stdout",
     "output_type": "stream",
     "text": [
      "x_train shape: (60000, 28, 28, 1)\n",
      "60000 train samples\n",
      "10000 test samples\n"
     ]
    }
   ],
   "source": [
    "import numpy as np\n",
    "import keras\n",
    "from keras import backend as K\n",
    "\n",
    "batch_size = 128\n",
    "num_classes = 10\n",
    "epochs = 12\n",
    "# input image dimensions\n",
    "img_rows, img_cols = 28, 28\n",
    "\n",
    "(x_train, y_train), (x_test, y_test) = keras.datasets.fashion_mnist.load_data()\n",
    "\n",
    "if K.image_data_format() == 'channels_first':\n",
    "    x_train = x_train.reshape(x_train.shape[0], 1, img_rows, img_cols)\n",
    "    x_test = x_test.reshape(x_test.shape[0], 1, img_rows, img_cols)\n",
    "    input_shape = (1, img_rows, img_cols)\n",
    "else:\n",
    "    x_train = x_train.reshape(x_train.shape[0], img_rows, img_cols, 1)\n",
    "    x_test = x_test.reshape(x_test.shape[0], img_rows, img_cols, 1)\n",
    "    input_shape = (img_rows, img_cols, 1)\n",
    "\n",
    "x_train = x_train.astype('float32')\n",
    "x_test = x_test.astype('float32')\n",
    "x_train /= 255\n",
    "x_test /= 255\n",
    "print('x_train shape:', x_train.shape)\n",
    "print(x_train.shape[0], 'train samples')\n",
    "print(x_test.shape[0], 'test samples')\n",
    "\n",
    "# convert class vectors to binary class matrices\n",
    "y_train = keras.utils.to_categorical(y_train, num_classes)\n",
    "y_test = keras.utils.to_categorical(y_test, num_classes)"
   ]
  },
  {
   "cell_type": "code",
   "execution_count": 2,
   "metadata": {},
   "outputs": [],
   "source": [
    "x = np.concatenate((x_train, x_test), axis=0)"
   ]
  },
  {
   "cell_type": "code",
   "execution_count": 3,
   "metadata": {},
   "outputs": [
    {
     "data": {
      "text/plain": [
       "(70000, 10)"
      ]
     },
     "execution_count": 3,
     "metadata": {},
     "output_type": "execute_result"
    }
   ],
   "source": [
    "y = np.concatenate((y_train, y_test), axis=0)\n",
    "y.shape"
   ]
  },
  {
   "cell_type": "code",
   "execution_count": 4,
   "metadata": {},
   "outputs": [],
   "source": [
    "from keras.models import Sequential\n",
    "from keras.layers import Dense, Conv2D, Dropout, BatchNormalization, MaxPooling2D, Flatten, Activation\n",
    "\n",
    "def fashion_mnist_fn(x_train, y_train, x_val, y_val, params):\n",
    "    conv_dropout = float(params['conv_dropout'])\n",
    "    dense1_neuron = int(params['dense1_neuron'])\n",
    "    model = Sequential()\n",
    "    model.add(BatchNormalization(input_shape=x_train.shape[1:]))\n",
    "    model.add(Conv2D(64, (5, 5), padding='same', activation=params['activation']))\n",
    "    model.add(MaxPooling2D(pool_size=(2, 2), strides=(2,2)))\n",
    "    model.add(Dropout(conv_dropout))\n",
    "\n",
    "    model.add(BatchNormalization(input_shape=x_train.shape[1:]))\n",
    "    model.add(Conv2D(128, (5, 5), padding='same', activation=params['activation']))\n",
    "    model.add(MaxPooling2D(pool_size=(2, 2)))\n",
    "    model.add(Dropout(conv_dropout))\n",
    "\n",
    "    model.add(BatchNormalization(input_shape=x_train.shape[1:]))\n",
    "    model.add(Conv2D(256, (5, 5), padding='same', activation=params['activation']))\n",
    "    model.add(MaxPooling2D(pool_size=(2, 2), strides=(2,2)))\n",
    "    model.add(Dropout(conv_dropout))\n",
    "\n",
    "    model.add(Flatten())\n",
    "    model.add(Dense(dense1_neuron))\n",
    "    model.add(Activation(params['activation']))\n",
    "    model.add(Dropout(0.5))\n",
    "    model.add(Dense(10))\n",
    "    model.add(Activation('softmax'))\n",
    "  \n",
    "    model.compile(\n",
    "        optimizer='adam', # tf.train.AdamOptimizer(learning_rate=1e-3, )\n",
    "        loss='categorical_crossentropy',\n",
    "        metrics=['accuracy']\n",
    "    )\n",
    "\n",
    "\n",
    "    out = model.fit(\n",
    "        x, y, epochs=10, batch_size=32, \n",
    "        verbose=0,\n",
    "        validation_data=[x_val, y_val]\n",
    "    )\n",
    "    return out, model\n"
   ]
  },
  {
   "cell_type": "code",
   "execution_count": 5,
   "metadata": {},
   "outputs": [],
   "source": [
    "import talos as ta\n",
    "\n",
    "para = {\n",
    "    'dense1_neuron': [256, 512],\n",
    "    'activation': ['relu', 'elu'],\n",
    "    'conv_dropout': [0.25, 0.4]\n",
    "}"
   ]
  },
  {
   "cell_type": "code",
   "execution_count": 6,
   "metadata": {
    "scrolled": false
   },
   "outputs": [
    {
     "name": "stderr",
     "output_type": "stream",
     "text": [
      "100%|███████████████████| 8/8 [40:18<00:00, 302.62s/it]\n"
     ]
    },
    {
     "name": "stdout",
     "output_type": "stream",
     "text": [
      "Scan Finished!\n"
     ]
    }
   ],
   "source": [
    "scan_results = ta.Scan(x, y, para, fashion_mnist_fn)"
   ]
  },
  {
   "cell_type": "code",
   "execution_count": 7,
   "metadata": {},
   "outputs": [
    {
     "data": {
      "text/html": [
       "<div>\n",
       "<table border=\"1\" class=\"dataframe\">\n",
       "  <thead>\n",
       "    <tr style=\"text-align: right;\">\n",
       "      <th></th>\n",
       "      <th>round_epochs</th>\n",
       "      <th>acc</th>\n",
       "      <th>loss</th>\n",
       "      <th>val_acc</th>\n",
       "      <th>val_loss</th>\n",
       "      <th>dense1_neuron</th>\n",
       "      <th>activation</th>\n",
       "      <th>conv_dropout</th>\n",
       "    </tr>\n",
       "  </thead>\n",
       "  <tbody>\n",
       "    <tr>\n",
       "      <th>1</th>\n",
       "      <td>10</td>\n",
       "      <td>0.8970285714285714</td>\n",
       "      <td>0.2887770893190588</td>\n",
       "      <td>0.9328571428571428</td>\n",
       "      <td>0.19639415578331265</td>\n",
       "      <td>256</td>\n",
       "      <td>elu</td>\n",
       "      <td>0.4</td>\n",
       "    </tr>\n",
       "    <tr>\n",
       "      <th>2</th>\n",
       "      <td>10</td>\n",
       "      <td>0.8979428571428572</td>\n",
       "      <td>0.29014447865337134</td>\n",
       "      <td>0.9280952380952381</td>\n",
       "      <td>0.20555971470475196</td>\n",
       "      <td>512</td>\n",
       "      <td>elu</td>\n",
       "      <td>0.4</td>\n",
       "    </tr>\n",
       "    <tr>\n",
       "      <th>3</th>\n",
       "      <td>10</td>\n",
       "      <td>0.9143428571428571</td>\n",
       "      <td>0.24015469462648034</td>\n",
       "      <td>0.941</td>\n",
       "      <td>0.15068206630860057</td>\n",
       "      <td>256</td>\n",
       "      <td>elu</td>\n",
       "      <td>0.25</td>\n",
       "    </tr>\n",
       "    <tr>\n",
       "      <th>4</th>\n",
       "      <td>10</td>\n",
       "      <td>0.8971142857142858</td>\n",
       "      <td>0.2881212840463434</td>\n",
       "      <td>0.9211904761904762</td>\n",
       "      <td>0.20696458444141205</td>\n",
       "      <td>256</td>\n",
       "      <td>relu</td>\n",
       "      <td>0.4</td>\n",
       "    </tr>\n",
       "    <tr>\n",
       "      <th>5</th>\n",
       "      <td>10</td>\n",
       "      <td>0.9175571428571428</td>\n",
       "      <td>0.22724991535544395</td>\n",
       "      <td>0.9411428571428572</td>\n",
       "      <td>0.16170272627898624</td>\n",
       "      <td>512</td>\n",
       "      <td>relu</td>\n",
       "      <td>0.25</td>\n",
       "    </tr>\n",
       "  </tbody>\n",
       "</table>\n",
       "</div>"
      ],
      "text/plain": [
       "  round_epochs                 acc                 loss             val_acc  \\\n",
       "1           10  0.8970285714285714   0.2887770893190588  0.9328571428571428   \n",
       "2           10  0.8979428571428572  0.29014447865337134  0.9280952380952381   \n",
       "3           10  0.9143428571428571  0.24015469462648034               0.941   \n",
       "4           10  0.8971142857142858   0.2881212840463434  0.9211904761904762   \n",
       "5           10  0.9175571428571428  0.22724991535544395  0.9411428571428572   \n",
       "\n",
       "              val_loss dense1_neuron activation conv_dropout  \n",
       "1  0.19639415578331265           256        elu          0.4  \n",
       "2  0.20555971470475196           512        elu          0.4  \n",
       "3  0.15068206630860057           256        elu         0.25  \n",
       "4  0.20696458444141205           256       relu          0.4  \n",
       "5  0.16170272627898624           512       relu         0.25  "
      ]
     },
     "execution_count": 7,
     "metadata": {},
     "output_type": "execute_result"
    }
   ],
   "source": [
    "scan_results.data.head()"
   ]
  },
  {
   "cell_type": "code",
   "execution_count": null,
   "metadata": {},
   "outputs": [],
   "source": []
  }
 ],
 "metadata": {
  "kernelspec": {
   "display_name": "Python 3",
   "language": "python",
   "name": "python3"
  },
  "language_info": {
   "codemirror_mode": {
    "name": "ipython",
    "version": 3
   },
   "file_extension": ".py",
   "mimetype": "text/x-python",
   "name": "python",
   "nbconvert_exporter": "python",
   "pygments_lexer": "ipython3",
   "version": "3.5.2"
  }
 },
 "nbformat": 4,
 "nbformat_minor": 2
}
